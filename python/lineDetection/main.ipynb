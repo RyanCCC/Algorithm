{
 "cells": [
  {
   "cell_type": "markdown",
   "metadata": {},
   "source": [
    "## 直线检测算法汇总\n",
    "\n",
    "在一些任务场景中，通常会用到直线检测算法，比如车道线检测、长度测量等。\n"
   ]
  },
  {
   "cell_type": "markdown",
   "metadata": {},
   "source": [
    "### Hough_line 直线检测\n",
    "\n",
    "Hough变换常用于直线检测、圆检测、椭圆检测等。实现步骤如下：\n",
    "\n",
    "- 创建二维数组或累加器，并将其初始值设置为零\n",
    "- 用$r$表示行，用$\\theta$表示列\n",
    "- 数组的大小取决于所需要的精度。假设希望角度的精度为1度，则需要180列\n",
    "- 对于$r$，可能的最大距离是图像的对角线长度。因此取一个像素精度，行数可以是图像的对角线长度"
   ]
  },
  {
   "cell_type": "code",
   "execution_count": null,
   "metadata": {},
   "outputs": [],
   "source": [
    "# coding=utf-8\n",
    "# 导入相应的python包\n",
    "import cv2 \n",
    "import numpy as np \n",
    "import os\n",
    "  \n",
    "# 读取输入图片\n",
    "img = cv2.imread('../image/lineDetection/line_detection.png') \n",
    "# 将彩色图片灰度化\n",
    "gray = cv2.cvtColor(img,cv2.COLOR_BGR2GRAY) \n",
    "# 使用Canny边缘检测 \n",
    "edges = cv2.Canny(gray,50,200,apertureSize = 3) \n",
    "# 进行Hough_line直线检测\n",
    "lines = cv2.HoughLines(edges,1,np.pi/10, 300) \n",
    "print(lines)\n",
    "# 遍历每一个r和theta\n",
    "for i in range(len(lines)):\n",
    "    r,theta = lines[i, 0, 0], lines[i, 0, 1]\n",
    "    # 存储cos(theta)的值\n",
    "    a = np.cos(theta)\n",
    "    # 存储sin(theta)的值\n",
    "    b = np.sin(theta) \n",
    "    # 存储rcos(theta)的值\n",
    "    x0 = a*r \n",
    "    # 存储rsin(theta)的值 \n",
    "    y0 = b*r  \n",
    "    # 存储(rcos(theta)-1000sin(theta))的值\n",
    "    x1 = int(x0 + 1000*(-b)) \n",
    "    # 存储(rsin(theta)+1000cos(theta))的值\n",
    "    y1 = int(y0 + 1000*(a)) \n",
    "    # 存储(rcos(theta)+1000sin(theta))的值\n",
    "    x2 = int(x0 - 1000*(-b)) \n",
    "    # 存储(rsin(theta)-1000cos(theta))的值\n",
    "    y2 = int(y0 - 1000*(a))  \n",
    "    # 绘制直线结果  \n",
    "    cv2.line(img,(x1,y1), (x2,y2), (0,255,0),2) \n",
    "# 保存结果\n",
    "# cv2.imwrite('test3_r.jpg', img) \n",
    "cv2.imshow(\"result\", img)\n",
    "cv2.waitKey(0)\n"
   ]
  },
  {
   "cell_type": "markdown",
   "metadata": {},
   "source": [
    "### HoughLinesP"
   ]
  },
  {
   "cell_type": "code",
   "execution_count": 10,
   "metadata": {},
   "outputs": [
    {
     "data": {
      "text/plain": [
       "-1"
      ]
     },
     "execution_count": 10,
     "metadata": {},
     "output_type": "execute_result"
    }
   ],
   "source": [
    "# coding=utf-8\n",
    "# 导入相应的python包\n",
    "import cv2\n",
    "import numpy as np\n",
    "\n",
    "# 读取输入图片\n",
    "img = cv2.imread('../image/lineDetection/line_detection.png') \n",
    "# 将彩色图片灰度化\n",
    "gray = cv2.cvtColor(img,cv2.COLOR_BGR2GRAY)\n",
    "# 使用Canny边缘检测\n",
    "edges = cv2.Canny(gray,50,200,apertureSize = 3)\n",
    "# 进行Hough_line直线检测\n",
    "lines = cv2.HoughLinesP(edges,1,np.pi/180, 80, 30, 10)\n",
    "\n",
    "# 遍历每一条直线\n",
    "for i in range(len(lines)):\n",
    "\tcv2.line(img,(lines[i, 0, 0],lines[i, 0, 1]), (lines[i, 0, 2],lines[i, 0, 3]), (0,255,0),2)\n",
    "# 保存结果\n",
    "cv2.imwrite('test3_r.jpg', img)\n",
    "cv2.imshow(\"result\", img)\n",
    "cv2.waitKey(0)"
   ]
  },
  {
   "cell_type": "markdown",
   "metadata": {},
   "source": [
    "### LSD算法\n",
    "\n",
    "LSD是opencv中集成的一个直线检测算法，该算法的直线检测效果优于Hough算法，而且具有较好的检测速度，推荐使用。LSD快速直线检测算法是由Rafael Grompone、Jeremie Jackbowicz、Jean-Michel Morel于2010年发表在PAMI上的文献《LSD:a Line Segment Dectctor》中提出的，该算法时间复杂度较霍夫变换低。LSD算法通过对图像局部分析，得出直线的像素点集，再通过假设参数进行验证求解，将像素点集合与误差控制集合合并，进而自适应控制误检的数量 。一般来说，要检测图像中的直线，最基本的思想是检测图像中梯度变化较大的像素点集，LSD算法也正是利用梯度信息和行列线（level-line）来进行直线检测的。"
   ]
  },
  {
   "cell_type": "code",
   "execution_count": 11,
   "metadata": {},
   "outputs": [
    {
     "ename": "error",
     "evalue": "OpenCV(4.5.1) C:\\Users\\appveyor\\AppData\\Local\\Temp\\1\\pip-req-build-oduouqig\\opencv\\modules\\imgproc\\src\\lsd.cpp:143: error: (-213:The function/feature is not implemented) Implementation has been removed due original code license issues in function 'cv::LineSegmentDetectorImpl::LineSegmentDetectorImpl'\n",
     "output_type": "error",
     "traceback": [
      "\u001b[1;31m---------------------------------------------------------------------------\u001b[0m",
      "\u001b[1;31merror\u001b[0m                                     Traceback (most recent call last)",
      "\u001b[1;32m~\\AppData\\Local\\Temp\\ipykernel_151212\\3203883930.py\u001b[0m in \u001b[0;36m<module>\u001b[1;34m\u001b[0m\n\u001b[0;32m      9\u001b[0m \u001b[1;33m\u001b[0m\u001b[0m\n\u001b[0;32m     10\u001b[0m \u001b[1;31m# 创建一个LSD对象\u001b[0m\u001b[1;33m\u001b[0m\u001b[1;33m\u001b[0m\u001b[1;33m\u001b[0m\u001b[0m\n\u001b[1;32m---> 11\u001b[1;33m \u001b[0mlsd\u001b[0m \u001b[1;33m=\u001b[0m \u001b[0mcv2\u001b[0m\u001b[1;33m.\u001b[0m\u001b[0mcreateLineSegmentDetector\u001b[0m\u001b[1;33m(\u001b[0m\u001b[1;36m0\u001b[0m\u001b[1;33m)\u001b[0m\u001b[1;33m\u001b[0m\u001b[1;33m\u001b[0m\u001b[0m\n\u001b[0m\u001b[0;32m     12\u001b[0m \u001b[1;31m# 执行检测结果\u001b[0m\u001b[1;33m\u001b[0m\u001b[1;33m\u001b[0m\u001b[1;33m\u001b[0m\u001b[0m\n\u001b[0;32m     13\u001b[0m \u001b[0mdlines\u001b[0m \u001b[1;33m=\u001b[0m \u001b[0mlsd\u001b[0m\u001b[1;33m.\u001b[0m\u001b[0mdetect\u001b[0m\u001b[1;33m(\u001b[0m\u001b[0mimg\u001b[0m\u001b[1;33m)\u001b[0m\u001b[1;33m\u001b[0m\u001b[1;33m\u001b[0m\u001b[0m\n",
      "\u001b[1;31merror\u001b[0m: OpenCV(4.5.1) C:\\Users\\appveyor\\AppData\\Local\\Temp\\1\\pip-req-build-oduouqig\\opencv\\modules\\imgproc\\src\\lsd.cpp:143: error: (-213:The function/feature is not implemented) Implementation has been removed due original code license issues in function 'cv::LineSegmentDetectorImpl::LineSegmentDetectorImpl'\n"
     ]
    }
   ],
   "source": [
    "# coding=utf-8\n",
    "import cv2\n",
    "import numpy as np\n",
    "\n",
    "# 读取输入图片\n",
    "img0 = cv2.imread('../image/lineDetection/line_detection.png') \n",
    "# 将彩色图片转换为灰度图片\n",
    "img = cv2.cvtColor(img0,cv2.COLOR_BGR2GRAY)\n",
    "\n",
    "# 创建一个LSD对象\n",
    "lsd = cv2.createLineSegmentDetector(0)\n",
    "# 执行检测结果\n",
    "dlines = lsd.detect(img)\n",
    "# 绘制检测结果\n",
    "for dline in dlines[0]:\n",
    "    x0 = int(round(dline[0][0]))\n",
    "    y0 = int(round(dline[0][1]))\n",
    "    x1 = int(round(dline[0][2]))\n",
    "    y1 = int(round(dline[0][3]))\n",
    "    cv2.line(img0, (x0, y0), (x1,y1), (0,255,0), 1, cv2.LINE_AA)\n",
    "\n",
    "# 显示并保存结果\n",
    "cv2.imwrite('test3_r.jpg', img0)\n",
    "cv2.imshow(\"LSD\", img0)\n",
    "cv2.waitKey(0)\n",
    "cv2.destroyAllWindows()"
   ]
  },
  {
   "cell_type": "code",
   "execution_count": null,
   "metadata": {},
   "outputs": [],
   "source": []
  }
 ],
 "metadata": {
  "kernelspec": {
   "display_name": "Python 3.7.6 ('tf2')",
   "language": "python",
   "name": "python3"
  },
  "language_info": {
   "codemirror_mode": {
    "name": "ipython",
    "version": 3
   },
   "file_extension": ".py",
   "mimetype": "text/x-python",
   "name": "python",
   "nbconvert_exporter": "python",
   "pygments_lexer": "ipython3",
   "version": "3.7.6"
  },
  "orig_nbformat": 4,
  "vscode": {
   "interpreter": {
    "hash": "c6c6e9ad919e43ea991096268ac22857d89ff5f05140928bb8d03f6bb8d6e7c0"
   }
  }
 },
 "nbformat": 4,
 "nbformat_minor": 2
}
